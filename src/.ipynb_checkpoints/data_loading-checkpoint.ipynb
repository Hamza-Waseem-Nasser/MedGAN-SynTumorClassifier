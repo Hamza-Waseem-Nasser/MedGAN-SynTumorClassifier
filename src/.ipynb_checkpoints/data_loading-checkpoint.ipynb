{
 "cells": [
  {
   "cell_type": "code",
   "execution_count": null,
   "id": "4fc82ebd-57d9-4305-86f1-5521530bd793",
   "metadata": {},
   "outputs": [],
   "source": [
    "# src/data_loading.py\n",
    "import torch\n",
    "from torchvision import datasets, transforms\n",
    "\n",
    "def get_dataloader(data_path, image_size, batch_size):\n",
    "    transform = transforms.Compose([\n",
    "        transforms.Resize(image_size),\n",
    "        transforms.CenterCrop(image_size),\n",
    "        transforms.ToTensor(),\n",
    "        transforms.Normalize([0.5], [0.5]) # assuming grayscale or adjust for RGB\n",
    "    ])\n",
    "\n",
    "    dataset = datasets.ImageFolder(root=data_path, transform=transform)\n",
    "    dataloader = torch.utils.data.DataLoader(dataset, batch_size=batch_size, shuffle=True)\n",
    "    return dataloader\n"
   ]
  }
 ],
 "metadata": {
  "kernelspec": {
   "display_name": "Python [conda env:base] *",
   "language": "python",
   "name": "conda-base-py"
  },
  "language_info": {
   "codemirror_mode": {
    "name": "ipython",
    "version": 3
   },
   "file_extension": ".py",
   "mimetype": "text/x-python",
   "name": "python",
   "nbconvert_exporter": "python",
   "pygments_lexer": "ipython3",
   "version": "3.12.7"
  }
 },
 "nbformat": 4,
 "nbformat_minor": 5
}
