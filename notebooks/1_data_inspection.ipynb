{
 "cells": [
  {
   "cell_type": "code",
   "execution_count": 1,
   "id": "058f4dbf-8eab-4ed3-aab6-e2e68727b228",
   "metadata": {},
   "outputs": [],
   "source": [
    "#This notebook will load the dataset, show some basic statistics, and display a few sample images."
   ]
  },
  {
   "cell_type": "code",
   "execution_count": 26,
   "id": "d553216d-493a-4488-a6ab-4f4d392997e8",
   "metadata": {},
   "outputs": [
    {
     "name": "stdout",
     "output_type": "stream",
     "text": [
      "Collecting opencv-python\n",
      "  Downloading opencv_python-4.10.0.84-cp37-abi3-win_amd64.whl.metadata (20 kB)\n",
      "Requirement already satisfied: numpy>=1.21.2 in c:\\users\\hp\\anaconda3\\lib\\site-packages (from opencv-python) (1.26.4)\n",
      "Downloading opencv_python-4.10.0.84-cp37-abi3-win_amd64.whl (38.8 MB)\n",
      "   ---------------------------------------- 0.0/38.8 MB ? eta -:--:--\n",
      "   ---------------------------------------- 0.3/38.8 MB ? eta -:--:--\n",
      "   - -------------------------------------- 1.3/38.8 MB 4.2 MB/s eta 0:00:09\n",
      "   -- ------------------------------------- 2.9/38.8 MB 5.8 MB/s eta 0:00:07\n",
      "   ---- ----------------------------------- 4.2/38.8 MB 6.1 MB/s eta 0:00:06\n",
      "   ----- ---------------------------------- 5.0/38.8 MB 5.6 MB/s eta 0:00:07\n",
      "   ------ --------------------------------- 6.0/38.8 MB 5.3 MB/s eta 0:00:07\n",
      "   ------- -------------------------------- 7.1/38.8 MB 5.1 MB/s eta 0:00:07\n",
      "   -------- ------------------------------- 8.4/38.8 MB 5.4 MB/s eta 0:00:06\n",
      "   --------- ------------------------------ 9.7/38.8 MB 5.5 MB/s eta 0:00:06\n",
      "   ----------- ---------------------------- 11.3/38.8 MB 5.6 MB/s eta 0:00:05\n",
      "   ------------ --------------------------- 12.6/38.8 MB 5.8 MB/s eta 0:00:05\n",
      "   -------------- ------------------------- 14.2/38.8 MB 5.9 MB/s eta 0:00:05\n",
      "   ---------------- ----------------------- 16.0/38.8 MB 6.0 MB/s eta 0:00:04\n",
      "   ----------------- ---------------------- 17.0/38.8 MB 6.0 MB/s eta 0:00:04\n",
      "   ------------------ --------------------- 18.4/38.8 MB 6.0 MB/s eta 0:00:04\n",
      "   ------------------- -------------------- 19.4/38.8 MB 5.9 MB/s eta 0:00:04\n",
      "   --------------------- ------------------ 20.4/38.8 MB 5.9 MB/s eta 0:00:04\n",
      "   --------------------- ------------------ 20.7/38.8 MB 5.6 MB/s eta 0:00:04\n",
      "   ----------------------- ---------------- 23.1/38.8 MB 6.0 MB/s eta 0:00:03\n",
      "   ------------------------ --------------- 24.1/38.8 MB 6.0 MB/s eta 0:00:03\n",
      "   -------------------------- ------------- 26.0/38.8 MB 6.1 MB/s eta 0:00:03\n",
      "   --------------------------- ------------ 27.0/38.8 MB 6.1 MB/s eta 0:00:02\n",
      "   ----------------------------- ---------- 28.6/38.8 MB 6.1 MB/s eta 0:00:02\n",
      "   ------------------------------ --------- 29.9/38.8 MB 6.1 MB/s eta 0:00:02\n",
      "   ------------------------------- -------- 30.9/38.8 MB 6.1 MB/s eta 0:00:02\n",
      "   --------------------------------- ------ 32.5/38.8 MB 6.1 MB/s eta 0:00:02\n",
      "   ----------------------------------- ---- 34.1/38.8 MB 6.1 MB/s eta 0:00:01\n",
      "   ------------------------------------ --- 35.1/38.8 MB 6.1 MB/s eta 0:00:01\n",
      "   ------------------------------------- -- 36.4/38.8 MB 6.1 MB/s eta 0:00:01\n",
      "   ---------------------------------------  38.0/38.8 MB 6.1 MB/s eta 0:00:01\n",
      "   ---------------------------------------  38.8/38.8 MB 6.1 MB/s eta 0:00:01\n",
      "   ---------------------------------------- 38.8/38.8 MB 6.0 MB/s eta 0:00:00\n",
      "Installing collected packages: opencv-python\n",
      "Successfully installed opencv-python-4.10.0.84\n"
     ]
    }
   ],
   "source": [
    "!pip install opencv-python"
   ]
  },
  {
   "cell_type": "code",
   "execution_count": 35,
   "id": "ae505bf8-96a7-43b7-b534-b34d8a0722ed",
   "metadata": {},
   "outputs": [],
   "source": [
    "import os\n",
    "import glob\n",
    "\n",
    "import cv2\n",
    "import numpy as np  # Using alias for numpy for brevity\n",
    "\n",
    "import matplotlib.pyplot as plt  # Using alias for matplotlib for brevity\n",
    "from PIL import Image  # Importing specific class from PIL for clarity"
   ]
  },
  {
   "cell_type": "code",
   "execution_count": 37,
   "id": "19d5eb8e-7cef-44c5-9333-6be54cd948c1",
   "metadata": {},
   "outputs": [
    {
     "name": "stdout",
     "output_type": "stream",
     "text": [
      "C:\\Users\\hp\\anaconda3\\python.exe\n",
      "C:\\Users\\hp\\AppData\\Local\\Microsoft\\WindowsApps\\python.exe\n"
     ]
    }
   ],
   "source": [
    "!where python "
   ]
  },
  {
   "cell_type": "code",
   "execution_count": 39,
   "id": "d8014d00-7d80-4b4c-8ad3-ad6088c6e728",
   "metadata": {},
   "outputs": [
    {
     "ename": "FileNotFoundError",
     "evalue": "[WinError 3] The system cannot find the path specified: 'MedGAN-SynTumorClassifier/data'",
     "output_type": "error",
     "traceback": [
      "\u001b[1;31m---------------------------------------------------------------------------\u001b[0m",
      "\u001b[1;31mFileNotFoundError\u001b[0m                         Traceback (most recent call last)",
      "Cell \u001b[1;32mIn[39], line 10\u001b[0m\n\u001b[0;32m      7\u001b[0m dataset_path \u001b[38;5;241m=\u001b[39m \u001b[38;5;124m\"\u001b[39m\u001b[38;5;124mMedGAN-SynTumorClassifier/data\u001b[39m\u001b[38;5;124m\"\u001b[39m\n\u001b[0;32m      9\u001b[0m \u001b[38;5;66;03m# Get class subfolders\u001b[39;00m\n\u001b[1;32m---> 10\u001b[0m class_names \u001b[38;5;241m=\u001b[39m [d \u001b[38;5;28;01mfor\u001b[39;00m d \u001b[38;5;129;01min\u001b[39;00m os\u001b[38;5;241m.\u001b[39mlistdir(dataset_path) \u001b[38;5;28;01mif\u001b[39;00m os\u001b[38;5;241m.\u001b[39mpath\u001b[38;5;241m.\u001b[39misdir(os\u001b[38;5;241m.\u001b[39mpath\u001b[38;5;241m.\u001b[39mjoin(dataset_path, d))]\n\u001b[0;32m     11\u001b[0m \u001b[38;5;28mprint\u001b[39m(\u001b[38;5;124mf\u001b[39m\u001b[38;5;124m\"\u001b[39m\u001b[38;5;124mClasses: \u001b[39m\u001b[38;5;132;01m{\u001b[39;00mclass_names\u001b[38;5;132;01m}\u001b[39;00m\u001b[38;5;124m\"\u001b[39m)\n\u001b[0;32m     13\u001b[0m \u001b[38;5;66;03m# Count images in each class\u001b[39;00m\n",
      "\u001b[1;31mFileNotFoundError\u001b[0m: [WinError 3] The system cannot find the path specified: 'MedGAN-SynTumorClassifier/data'"
     ]
    }
   ],
   "source": [
    "import os\n",
    "import matplotlib.pyplot as plt\n",
    "from PIL import Image  # For loading images\n",
    "import random\n",
    "\n",
    "# Define your dataset path\n",
    "dataset_path = \"MedGAN-SynTumorClassifier/data\"\n",
    "\n",
    "# Get class subfolders\n",
    "class_names = [d for d in os.listdir(dataset_path) if os.path.isdir(os.path.join(dataset_path, d))]\n",
    "print(f\"Classes: {class_names}\")\n",
    "\n",
    "# Count images in each class\n",
    "class_counts = {}\n",
    "for class_name in class_names:\n",
    "    class_folder = os.path.join(dataset_path, class_name)\n",
    "    class_counts[class_name] = len(os.listdir(class_folder))\n",
    "\n",
    "# Print counts\n",
    "print(\"Number of images per class:\")\n",
    "for class_name, count in class_counts.items():\n",
    "    print(f\"{class_name}: {count}\")\n",
    "\n",
    "# Display a couple of sample images\n",
    "fig, axes = plt.subplots(1, len(class_names), figsize=(15, 5))\n",
    "for i, class_name in enumerate(class_names):\n",
    "    class_folder = os.path.join(dataset_path, class_name)\n",
    "    sample_image = random.choice(os.listdir(class_folder))  # Pick a random image\n",
    "    image_path = os.path.join(class_folder, sample_image)\n",
    "    \n",
    "    # Load and display the image\n",
    "    img = Image.open(image_path)\n",
    "    axes[i].imshow(img)\n",
    "    axes[i].axis(\"off\")\n",
    "    axes[i].set_title(class_name)\n",
    "plt.tight_layout()\n",
    "plt.show()\n"
   ]
  },
  {
   "cell_type": "code",
   "execution_count": null,
   "id": "8ce56634-dc1b-4842-9cdf-2f6005c16780",
   "metadata": {},
   "outputs": [],
   "source": []
  },
  {
   "cell_type": "code",
   "execution_count": null,
   "id": "44b524e9-8746-4485-b0dd-25e6ef175a10",
   "metadata": {},
   "outputs": [],
   "source": []
  }
 ],
 "metadata": {
  "kernelspec": {
   "display_name": "Python [conda env:base] *",
   "language": "python",
   "name": "conda-base-py"
  },
  "language_info": {
   "codemirror_mode": {
    "name": "ipython",
    "version": 3
   },
   "file_extension": ".py",
   "mimetype": "text/x-python",
   "name": "python",
   "nbconvert_exporter": "python",
   "pygments_lexer": "ipython3",
   "version": "3.12.7"
  }
 },
 "nbformat": 4,
 "nbformat_minor": 5
}
