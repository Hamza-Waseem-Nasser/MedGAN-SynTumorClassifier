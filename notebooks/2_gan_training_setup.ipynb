{
 "cells": [
  {
   "cell_type": "markdown",
   "id": "a661c6de-4a67-4644-9e4a-5e2c6c1dc6dc",
   "metadata": {},
   "source": [
    "This notebook sets up the environment and scripts needed for training GANs on our dataset"
   ]
  },
  {
   "cell_type": "code",
   "execution_count": 3,
   "id": "dece6c27-24da-4272-876f-1d4ae545897a",
   "metadata": {},
   "outputs": [
    {
     "ename": "ModuleNotFoundError",
     "evalue": "No module named 'torch'",
     "output_type": "error",
     "traceback": [
      "\u001b[1;31m---------------------------------------------------------------------------\u001b[0m",
      "\u001b[1;31mModuleNotFoundError\u001b[0m                       Traceback (most recent call last)",
      "Cell \u001b[1;32mIn[3], line 2\u001b[0m\n\u001b[0;32m      1\u001b[0m \u001b[38;5;66;03m# Import libraries\u001b[39;00m\n\u001b[1;32m----> 2\u001b[0m \u001b[38;5;28;01mimport\u001b[39;00m \u001b[38;5;21;01mtorch\u001b[39;00m\n\u001b[0;32m      3\u001b[0m \u001b[38;5;28;01mimport\u001b[39;00m \u001b[38;5;21;01mtorchvision\u001b[39;00m\n\u001b[0;32m      4\u001b[0m \u001b[38;5;28;01mimport\u001b[39;00m \u001b[38;5;21;01mnumpy\u001b[39;00m \u001b[38;5;28;01mas\u001b[39;00m \u001b[38;5;21;01mnp\u001b[39;00m\n",
      "\u001b[1;31mModuleNotFoundError\u001b[0m: No module named 'torch'"
     ]
    }
   ],
   "source": [
    "# Import libraries\n",
    "import torch\n",
    "import torchvision\n",
    "import numpy as np\n",
    "import matplotlib.pyplot as plt\n"
   ]
  },
  {
   "cell_type": "code",
   "execution_count": null,
   "id": "0b5f1780-52a8-49d7-9ae7-ab42fd139ae5",
   "metadata": {},
   "outputs": [],
   "source": [
    "# Mount Google Drive (if running on Colab)\n",
    "# from google.colab import drive\n",
    "# drive.mount('/content/drive')\n",
    "\n",
    "# Placeholder: Uncomment and use the above code when running on Colab\n",
    "print(\"Google Drive will be mounted here when running on Colab.\")\n"
   ]
  },
  {
   "cell_type": "code",
   "execution_count": null,
   "id": "391d8d20-8295-409f-a93b-face228b5bf0",
   "metadata": {},
   "outputs": [],
   "source": [
    "# Placeholder for hyperparameters\n",
    "batch_size = 64         # Number of samples per batch\n",
    "learning_rate = 0.0002  # Learning rate for the optimizer\n",
    "epochs = 50             # Number of training epochs\n",
    "\n",
    "print(f\"Hyperparameters set: batch_size={batch_size}, learning_rate={learning_rate}, epochs={epochs}\")\n"
   ]
  },
  {
   "cell_type": "code",
   "execution_count": null,
   "id": "4a2f3765-e119-4717-8b86-687e73e04961",
   "metadata": {},
   "outputs": [],
   "source": [
    "# Placeholder for GAN architecture\n",
    "# Define Generator and Discriminator classes here\n",
    "\n",
    "# Example:\n",
    "# class Generator(torch.nn.Module):\n",
    "#     def __init__(self):\n",
    "#         super(Generator, self).__init__()\n",
    "#         # Define layers here\n",
    "\n",
    "# class Discriminator(torch.nn.Module):\n",
    "#     def __init__(self):\n",
    "#         super(Discriminator, self).__init__()\n",
    "#         # Define layers here\n",
    "\n",
    "print(\"GAN model architecture will be defined here.\")\n"
   ]
  },
  {
   "cell_type": "code",
   "execution_count": null,
   "id": "84070b83-d03f-44df-94f5-c3fd00b7b1a1",
   "metadata": {},
   "outputs": [],
   "source": [
    "# Placeholder for dataset loading\n",
    "# Typically, you would use torchvision.datasets or custom dataset loaders here\n",
    "\n",
    "# Example:\n",
    "# from torchvision import datasets, transforms\n",
    "# transform = transforms.Compose([transforms.ToTensor()])\n",
    "# dataset = datasets.ImageFolder(root='path_to_data', transform=transform)\n",
    "# dataloader = torch.utils.data.DataLoader(dataset, batch_size=batch_size, shuffle=True)\n",
    "\n",
    "print(\"Dataset will be loaded here.\")\n"
   ]
  },
  {
   "cell_type": "code",
   "execution_count": null,
   "id": "1e7235b5-5dc1-4e5c-8a9b-7e3ad3a594c0",
   "metadata": {},
   "outputs": [],
   "source": []
  }
 ],
 "metadata": {
  "kernelspec": {
   "display_name": "Python [conda env:base] *",
   "language": "python",
   "name": "conda-base-py"
  },
  "language_info": {
   "codemirror_mode": {
    "name": "ipython",
    "version": 3
   },
   "file_extension": ".py",
   "mimetype": "text/x-python",
   "name": "python",
   "nbconvert_exporter": "python",
   "pygments_lexer": "ipython3",
   "version": "3.12.7"
  }
 },
 "nbformat": 4,
 "nbformat_minor": 5
}
