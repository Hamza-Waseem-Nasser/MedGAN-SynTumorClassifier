{
 "cells": [
  {
   "cell_type": "code",
   "execution_count": null,
   "id": "c936379d-6f6d-4024-9423-57d1dcbfe018",
   "metadata": {},
   "outputs": [],
   "source": [
    "from src.data_loading import get_dataloader\n",
    "from src.train_gan import train_gan\n",
    "from models.dcgan.model import Generator, Discriminator\n",
    "import yaml\n",
    "\n",
    "# Load config\n",
    "with open(\"config.yaml\", \"r\") as file:\n",
    "    config = yaml.safe_load(file)\n",
    "\n",
    "# Prepare dataloader\n",
    "dataloader = get_dataloader(\n",
    "    data_path=config['dataset_path'],\n",
    "    image_size=config['image_size'],\n",
    "    batch_size=config['batch_size']\n",
    ")\n",
    "\n",
    "# Initialize models\n",
    "model_G = Generator(latent_dim=config['latent_dim'], channels_img=1, features_g=64)\n",
    "model_D = Discriminator(channels_img=1, features_d=64)\n",
    "\n",
    "# Train\n",
    "train_gan(model_G, model_D, dataloader, config)\n"
   ]
  }
 ],
 "metadata": {
  "kernelspec": {
   "display_name": "Python [conda env:base] *",
   "language": "python",
   "name": "conda-base-py"
  },
  "language_info": {
   "codemirror_mode": {
    "name": "ipython",
    "version": 3
   },
   "file_extension": ".py",
   "mimetype": "text/x-python",
   "name": "python",
   "nbconvert_exporter": "python",
   "pygments_lexer": "ipython3",
   "version": "3.12.7"
  }
 },
 "nbformat": 4,
 "nbformat_minor": 5
}
